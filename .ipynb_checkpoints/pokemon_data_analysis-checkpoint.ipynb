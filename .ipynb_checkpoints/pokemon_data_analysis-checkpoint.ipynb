{
 "cells": [
  {
   "cell_type": "code",
   "execution_count": 4,
   "id": "89b90082-7fb8-49d5-9a78-95df84acb1b9",
   "metadata": {},
   "outputs": [],
   "source": [
    "import pandas as pd\n",
    "\n",
    "df = pd.read_csv('pokemon_data.csv')"
   ]
  },
  {
   "cell_type": "code",
   "execution_count": 6,
   "id": "df9ef516-6457-4f2b-8724-08b08672671a",
   "metadata": {},
   "outputs": [
    {
     "name": "stdout",
     "output_type": "stream",
     "text": [
      "   #       Name Type 1  Type 2  HP  Attack  Defense  Sp. Atk  Sp. Def  Speed  \\\n",
      "0  1  Bulbasaur  Grass  Poison  45      49       49       65       65     45   \n",
      "1  2    Ivysaur  Grass  Poison  60      62       63       80       80     60   \n",
      "2  3   Venusaur  Grass  Poison  80      82       83      100      100     80   \n",
      "\n",
      "   Generation  Legendary  \n",
      "0           1      False  \n",
      "1           1      False  \n",
      "2           1      False  \n"
     ]
    }
   ],
   "source": [
    "print(df.head(3)) \n",
    "# using the .head() method to specify the number of top rows and using the .tail() to specify the number of bottom rows"
   ]
  },
  {
   "cell_type": "markdown",
   "id": "9102ae10-fa46-4227-8eb1-dc8001a50da3",
   "metadata": {},
   "source": [
    "Reading Data\n",
    "# 1: reading headers"
   ]
  },
  {
   "cell_type": "code",
   "execution_count": 7,
   "id": "a7bbf7e6-a6a6-4968-ab94-cd346433d05d",
   "metadata": {},
   "outputs": [
    {
     "name": "stdout",
     "output_type": "stream",
     "text": [
      "Index(['#', 'Name', 'Type 1', 'Type 2', 'HP', 'Attack', 'Defense', 'Sp. Atk',\n",
      "       'Sp. Def', 'Speed', 'Generation', 'Legendary'],\n",
      "      dtype='object')\n"
     ]
    }
   ],
   "source": [
    "print(df.columns)"
   ]
  },
  {
   "cell_type": "markdown",
   "id": "743bb7cb-4954-4d71-a3f9-a9fba5899957",
   "metadata": {},
   "source": [
    "# 2: Reading each column"
   ]
  },
  {
   "cell_type": "code",
   "execution_count": 12,
   "id": "061d7684-ad98-4d98-b2a4-9c4f29b0b0eb",
   "metadata": {},
   "outputs": [
    {
     "name": "stdout",
     "output_type": "stream",
     "text": [
      "                         Name  Type 1  Type 2  HP  Defense\n",
      "0                   Bulbasaur   Grass  Poison  45       49\n",
      "1                     Ivysaur   Grass  Poison  60       63\n",
      "2                    Venusaur   Grass  Poison  80       83\n",
      "3       VenusaurMega Venusaur   Grass  Poison  80      123\n",
      "4                  Charmander    Fire     NaN  39       43\n",
      "5                  Charmeleon    Fire     NaN  58       58\n",
      "6                   Charizard    Fire  Flying  78       78\n",
      "7   CharizardMega Charizard X    Fire  Dragon  78      111\n",
      "8   CharizardMega Charizard Y    Fire  Flying  78       78\n",
      "9                    Squirtle   Water     NaN  44       65\n",
      "10                  Wartortle   Water     NaN  59       80\n",
      "11                  Blastoise   Water     NaN  79      100\n",
      "12    BlastoiseMega Blastoise   Water     NaN  79      120\n",
      "13                   Caterpie     Bug     NaN  45       35\n",
      "14                    Metapod     Bug     NaN  50       55\n",
      "15                 Butterfree     Bug  Flying  60       50\n",
      "16                     Weedle     Bug  Poison  40       30\n",
      "17                     Kakuna     Bug  Poison  45       50\n",
      "18                   Beedrill     Bug  Poison  65       40\n",
      "19      BeedrillMega Beedrill     Bug  Poison  65       40\n",
      "20                     Pidgey  Normal  Flying  40       40\n"
     ]
    }
   ],
   "source": [
    "print(df [['Name', 'Type 1', 'Type 2', 'HP', 'Defense']] [0:20+1])"
   ]
  },
  {
   "cell_type": "markdown",
   "id": "103ece47-5aa8-4184-a77a-a216d4a9e653",
   "metadata": {},
   "source": [
    "# 3: Reading Rows\n",
    "    using the iloc[] also known as integer location and loc[] attributes to select specific rows to print out."
   ]
  },
  {
   "cell_type": "code",
   "execution_count": 18,
   "id": "2ef7081e-26fd-49fc-b476-e1c652bbaa66",
   "metadata": {},
   "outputs": [
    {
     "data": {
      "text/plain": [
       "#                    3\n",
       "Name          Venusaur\n",
       "Type 1           Grass\n",
       "Type 2          Poison\n",
       "HP                  80\n",
       "Attack              82\n",
       "Defense             83\n",
       "Sp. Atk            100\n",
       "Sp. Def            100\n",
       "Speed               80\n",
       "Generation           1\n",
       "Legendary        False\n",
       "Name: 2, dtype: object"
      ]
     },
     "execution_count": 18,
     "metadata": {},
     "output_type": "execute_result"
    }
   ],
   "source": [
    "df.iloc[2]"
   ]
  },
  {
   "cell_type": "code",
   "execution_count": 21,
   "id": "bb24113b-983a-40af-a520-ff479f799cc4",
   "metadata": {},
   "outputs": [
    {
     "name": "stdout",
     "output_type": "stream",
     "text": [
      "   #                   Name Type 1  Type 2  HP  Attack  Defense  Sp. Atk  \\\n",
      "0  1              Bulbasaur  Grass  Poison  45      49       49       65   \n",
      "1  2                Ivysaur  Grass  Poison  60      62       63       80   \n",
      "2  3               Venusaur  Grass  Poison  80      82       83      100   \n",
      "3  3  VenusaurMega Venusaur  Grass  Poison  80     100      123      122   \n",
      "4  4             Charmander   Fire     NaN  39      52       43       60   \n",
      "5  5             Charmeleon   Fire     NaN  58      64       58       80   \n",
      "\n",
      "   Sp. Def  Speed  Generation  Legendary  \n",
      "0       65     45           1      False  \n",
      "1       80     60           1      False  \n",
      "2      100     80           1      False  \n",
      "3      120     80           1      False  \n",
      "4       50     65           1      False  \n",
      "5       65     80           1      False  \n"
     ]
    }
   ],
   "source": [
    "print(df.iloc[0:5+1])"
   ]
  },
  {
   "cell_type": "markdown",
   "id": "36202999-ad39-44c7-a55f-9d4fe76df4fe",
   "metadata": {},
   "source": [
    "# Reading specific location: Example\n",
    "     Getting the 'Venusaur' name in the 2nd row  "
   ]
  },
  {
   "cell_type": "code",
   "execution_count": 22,
   "id": "5473c9bb-362f-47e7-ba1c-f4aeeb77f9d9",
   "metadata": {},
   "outputs": [
    {
     "data": {
      "text/plain": [
       "'Venusaur'"
      ]
     },
     "execution_count": 22,
     "metadata": {},
     "output_type": "execute_result"
    }
   ],
   "source": [
    "df.iloc[2,1]"
   ]
  },
  {
   "cell_type": "code",
   "execution_count": null,
   "id": "1be75974-edc7-49d4-8c5c-dafb6473fab2",
   "metadata": {},
   "outputs": [],
   "source": []
  }
 ],
 "metadata": {
  "kernelspec": {
   "display_name": "Python 3 (ipykernel)",
   "language": "python",
   "name": "python3"
  },
  "language_info": {
   "codemirror_mode": {
    "name": "ipython",
    "version": 3
   },
   "file_extension": ".py",
   "mimetype": "text/x-python",
   "name": "python",
   "nbconvert_exporter": "python",
   "pygments_lexer": "ipython3",
   "version": "3.10.6"
  }
 },
 "nbformat": 4,
 "nbformat_minor": 5
}
